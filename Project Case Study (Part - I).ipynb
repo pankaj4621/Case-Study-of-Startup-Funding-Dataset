{
 "cells": [
  {
   "cell_type": "code",
   "execution_count": 67,
   "metadata": {},
   "outputs": [
    {
     "data": {
      "text/html": [
       "<div>\n",
       "<style scoped>\n",
       "    .dataframe tbody tr th:only-of-type {\n",
       "        vertical-align: middle;\n",
       "    }\n",
       "\n",
       "    .dataframe tbody tr th {\n",
       "        vertical-align: top;\n",
       "    }\n",
       "\n",
       "    .dataframe thead th {\n",
       "        text-align: right;\n",
       "    }\n",
       "</style>\n",
       "<table border=\"1\" class=\"dataframe\">\n",
       "  <thead>\n",
       "    <tr style=\"text-align: right;\">\n",
       "      <th></th>\n",
       "      <th>SNo</th>\n",
       "      <th>Date</th>\n",
       "      <th>StartupName</th>\n",
       "      <th>IndustryVertical</th>\n",
       "      <th>SubVertical</th>\n",
       "      <th>CityLocation</th>\n",
       "      <th>InvestorsName</th>\n",
       "      <th>InvestmentType</th>\n",
       "      <th>AmountInUSD</th>\n",
       "      <th>Remarks</th>\n",
       "    </tr>\n",
       "  </thead>\n",
       "  <tbody>\n",
       "    <tr>\n",
       "      <th>0</th>\n",
       "      <td>0</td>\n",
       "      <td>01/08/2017</td>\n",
       "      <td>TouchKin</td>\n",
       "      <td>Technology</td>\n",
       "      <td>Predictive Care Platform</td>\n",
       "      <td>Bangalore</td>\n",
       "      <td>Kae Capital</td>\n",
       "      <td>Private Equity</td>\n",
       "      <td>1,300,000</td>\n",
       "      <td>NaN</td>\n",
       "    </tr>\n",
       "    <tr>\n",
       "      <th>1</th>\n",
       "      <td>1</td>\n",
       "      <td>02/08/2017</td>\n",
       "      <td>Ethinos</td>\n",
       "      <td>Technology</td>\n",
       "      <td>Digital Marketing Agency</td>\n",
       "      <td>Mumbai</td>\n",
       "      <td>Triton Investment Advisors</td>\n",
       "      <td>Private Equity</td>\n",
       "      <td>NaN</td>\n",
       "      <td>NaN</td>\n",
       "    </tr>\n",
       "    <tr>\n",
       "      <th>2</th>\n",
       "      <td>2</td>\n",
       "      <td>02/08/2017</td>\n",
       "      <td>Leverage Edu</td>\n",
       "      <td>Consumer Internet</td>\n",
       "      <td>Online platform for Higher Education Services</td>\n",
       "      <td>New Delhi</td>\n",
       "      <td>Kashyap Deorah, Anand Sankeshwar, Deepak Jain,...</td>\n",
       "      <td>Seed Funding</td>\n",
       "      <td>NaN</td>\n",
       "      <td>NaN</td>\n",
       "    </tr>\n",
       "    <tr>\n",
       "      <th>3</th>\n",
       "      <td>3</td>\n",
       "      <td>02/08/2017</td>\n",
       "      <td>Zepo</td>\n",
       "      <td>Consumer Internet</td>\n",
       "      <td>DIY Ecommerce platform</td>\n",
       "      <td>Mumbai</td>\n",
       "      <td>Kunal Shah, LetsVenture, Anupam Mittal, Hetal ...</td>\n",
       "      <td>Seed Funding</td>\n",
       "      <td>500,000</td>\n",
       "      <td>NaN</td>\n",
       "    </tr>\n",
       "    <tr>\n",
       "      <th>4</th>\n",
       "      <td>4</td>\n",
       "      <td>02/08/2017</td>\n",
       "      <td>Click2Clinic</td>\n",
       "      <td>Consumer Internet</td>\n",
       "      <td>healthcare service aggregator</td>\n",
       "      <td>Hyderabad</td>\n",
       "      <td>Narottam Thudi, Shireesh Palle</td>\n",
       "      <td>Seed Funding</td>\n",
       "      <td>850,000</td>\n",
       "      <td>NaN</td>\n",
       "    </tr>\n",
       "    <tr>\n",
       "      <th>...</th>\n",
       "      <td>...</td>\n",
       "      <td>...</td>\n",
       "      <td>...</td>\n",
       "      <td>...</td>\n",
       "      <td>...</td>\n",
       "      <td>...</td>\n",
       "      <td>...</td>\n",
       "      <td>...</td>\n",
       "      <td>...</td>\n",
       "      <td>...</td>\n",
       "    </tr>\n",
       "    <tr>\n",
       "      <th>2367</th>\n",
       "      <td>2367</td>\n",
       "      <td>29/01/2015</td>\n",
       "      <td>Printvenue</td>\n",
       "      <td>NaN</td>\n",
       "      <td>NaN</td>\n",
       "      <td>NaN</td>\n",
       "      <td>Asia Pacific Internet Group</td>\n",
       "      <td>Private Equity</td>\n",
       "      <td>4,500,000</td>\n",
       "      <td>NaN</td>\n",
       "    </tr>\n",
       "    <tr>\n",
       "      <th>2368</th>\n",
       "      <td>2368</td>\n",
       "      <td>29/01/2015</td>\n",
       "      <td>Graphene</td>\n",
       "      <td>NaN</td>\n",
       "      <td>NaN</td>\n",
       "      <td>NaN</td>\n",
       "      <td>KARSEMVEN Fund</td>\n",
       "      <td>Private Equity</td>\n",
       "      <td>825,000</td>\n",
       "      <td>Govt backed VC Fund</td>\n",
       "    </tr>\n",
       "    <tr>\n",
       "      <th>2369</th>\n",
       "      <td>2369</td>\n",
       "      <td>30/01/2015</td>\n",
       "      <td>Mad Street Den</td>\n",
       "      <td>NaN</td>\n",
       "      <td>NaN</td>\n",
       "      <td>NaN</td>\n",
       "      <td>Exfinity Fund, GrowX Ventures.</td>\n",
       "      <td>Private Equity</td>\n",
       "      <td>1,500,000</td>\n",
       "      <td>NaN</td>\n",
       "    </tr>\n",
       "    <tr>\n",
       "      <th>2370</th>\n",
       "      <td>2370</td>\n",
       "      <td>30/01/2015</td>\n",
       "      <td>Simplotel</td>\n",
       "      <td>NaN</td>\n",
       "      <td>NaN</td>\n",
       "      <td>NaN</td>\n",
       "      <td>MakeMyTrip</td>\n",
       "      <td>Private Equity</td>\n",
       "      <td>NaN</td>\n",
       "      <td>Strategic Funding, Minority stake</td>\n",
       "    </tr>\n",
       "    <tr>\n",
       "      <th>2371</th>\n",
       "      <td>2371</td>\n",
       "      <td>31/01/2015</td>\n",
       "      <td>couponmachine.in</td>\n",
       "      <td>NaN</td>\n",
       "      <td>NaN</td>\n",
       "      <td>NaN</td>\n",
       "      <td>UK based Group of Angel Investors</td>\n",
       "      <td>Seed Funding</td>\n",
       "      <td>140,000</td>\n",
       "      <td>NaN</td>\n",
       "    </tr>\n",
       "  </tbody>\n",
       "</table>\n",
       "<p>2372 rows × 10 columns</p>\n",
       "</div>"
      ],
      "text/plain": [
       "       SNo        Date       StartupName   IndustryVertical  \\\n",
       "0        0  01/08/2017          TouchKin         Technology   \n",
       "1        1  02/08/2017           Ethinos         Technology   \n",
       "2        2  02/08/2017      Leverage Edu  Consumer Internet   \n",
       "3        3  02/08/2017              Zepo  Consumer Internet   \n",
       "4        4  02/08/2017      Click2Clinic  Consumer Internet   \n",
       "...    ...         ...               ...                ...   \n",
       "2367  2367  29/01/2015        Printvenue                NaN   \n",
       "2368  2368  29/01/2015          Graphene                NaN   \n",
       "2369  2369  30/01/2015    Mad Street Den                NaN   \n",
       "2370  2370  30/01/2015         Simplotel                NaN   \n",
       "2371  2371  31/01/2015  couponmachine.in                NaN   \n",
       "\n",
       "                                        SubVertical CityLocation  \\\n",
       "0                          Predictive Care Platform    Bangalore   \n",
       "1                          Digital Marketing Agency       Mumbai   \n",
       "2     Online platform for Higher Education Services    New Delhi   \n",
       "3                            DIY Ecommerce platform       Mumbai   \n",
       "4                     healthcare service aggregator    Hyderabad   \n",
       "...                                             ...          ...   \n",
       "2367                                            NaN          NaN   \n",
       "2368                                            NaN          NaN   \n",
       "2369                                            NaN          NaN   \n",
       "2370                                            NaN          NaN   \n",
       "2371                                            NaN          NaN   \n",
       "\n",
       "                                          InvestorsName  InvestmentType  \\\n",
       "0                                           Kae Capital  Private Equity   \n",
       "1                            Triton Investment Advisors  Private Equity   \n",
       "2     Kashyap Deorah, Anand Sankeshwar, Deepak Jain,...    Seed Funding   \n",
       "3     Kunal Shah, LetsVenture, Anupam Mittal, Hetal ...    Seed Funding   \n",
       "4                        Narottam Thudi, Shireesh Palle    Seed Funding   \n",
       "...                                                 ...             ...   \n",
       "2367                        Asia Pacific Internet Group  Private Equity   \n",
       "2368                                     KARSEMVEN Fund  Private Equity   \n",
       "2369                     Exfinity Fund, GrowX Ventures.  Private Equity   \n",
       "2370                                         MakeMyTrip  Private Equity   \n",
       "2371                  UK based Group of Angel Investors    Seed Funding   \n",
       "\n",
       "     AmountInUSD                            Remarks  \n",
       "0      1,300,000                                NaN  \n",
       "1            NaN                                NaN  \n",
       "2            NaN                                NaN  \n",
       "3        500,000                                NaN  \n",
       "4        850,000                                NaN  \n",
       "...          ...                                ...  \n",
       "2367   4,500,000                                NaN  \n",
       "2368     825,000                Govt backed VC Fund  \n",
       "2369   1,500,000                                NaN  \n",
       "2370         NaN  Strategic Funding, Minority stake  \n",
       "2371     140,000                                NaN  \n",
       "\n",
       "[2372 rows x 10 columns]"
      ]
     },
     "execution_count": 67,
     "metadata": {},
     "output_type": "execute_result"
    }
   ],
   "source": [
    "#Startup Funding Dataset\n",
    "import numpy as np\n",
    "import pandas as pd\n",
    "import matplotlib.pyplot as plt\n",
    "df=pd.read_csv('C:/Users/Suman Shekhar/Desktop/Data Science and ML/Project  Case Study (Part - I)/Dataset/startup_funding.csv')\n",
    "df\n"
   ]
  },
  {
   "cell_type": "code",
   "execution_count": 2,
   "metadata": {},
   "outputs": [
    {
     "data": {
      "image/png": "[encoded data removed]",
      "text/plain": [
       "<Figure size 432x288 with 1 Axes>"
      ]
     },
     "metadata": {
      "needs_background": "light"
     },
     "output_type": "display_data"
    },
    {
     "name": "stdout",
     "output_type": "stream",
     "text": [
      "2015 936\n",
      "2016 993\n",
      "2017 443\n"
     ]
    }
   ],
   "source": [
    "#Number of Fundings\n",
    "import numpy as np\n",
    "import pandas as pd\n",
    "import matplotlib.pyplot as plt\n",
    "df=pd.read_csv('C:/Users/panka/Documents/CodingNinjaDS/Project  Case Study (Part - I)/Dataset/startup_funding.csv')\n",
    " \n",
    "date=df['Date']\n",
    "date=date.str[-4::]\n",
    "date.dropna(inplace=True)\n",
    "date=date.value_counts()\n",
    "date=date.sort_index()\n",
    "years=date.index\n",
    "fundings=date.values\n",
    "plt.plot(years, fundings, color='red')\n",
    "plt.xlabel('Years')\n",
    "plt.ylabel('Fundings')\n",
    "plt.title('Fundings over diffrent Years')\n",
    "plt.grid()\n",
    "plt.show()\n",
    "for i in range(years.shape[0]):\n",
    "    print(years[i],fundings[i])"
   ]
  },
  {
   "cell_type": "code",
   "execution_count": 66,
   "metadata": {},
   "outputs": [
    {
     "data": {
      "image/png": "[encoded data removed]",
      "text/plain": [
       "<Figure size 432x288 with 1 Axes>"
      ]
     },
     "metadata": {},
     "output_type": "display_data"
    },
    {
     "name": "stdout",
     "output_type": "stream",
     "text": [
      "Bangalore 628\n",
      "Mumbai 446\n",
      "New Delhi 385\n",
      "Gurgaon 240\n",
      "Pune 84\n",
      "Noida 78\n",
      "Hyderabad 76\n",
      "Chennai 66\n",
      "Ahmedabad 35\n",
      "Jaipur 25\n"
     ]
    }
   ],
   "source": [
    "#Top Indian Cities\n",
    "import numpy as np\n",
    "import pandas as pd\n",
    "import matplotlib.pyplot as plt\n",
    "df=pd.read_csv('C:/Users/Suman Shekhar/Desktop/Data Science and ML/Project  Case Study (Part - I)/Dataset/startup_funding.csv')\n",
    "\n",
    "df.dropna(subset=['CityLocation'], inplace=True)\n",
    "df['CityLocation']=df['CityLocation'].str.title()\n",
    "df['CityLocation'].replace('Delhi','New Delhi',inplace=True)\n",
    "city=df['CityLocation']\n",
    "city=city.value_counts()\n",
    "city=city.iloc[:10]\n",
    "cities=city.index\n",
    "startups=city.values\n",
    "#print(startups)\n",
    "plt.pie(startups, labels=cities, autopct='%.2f%%')\n",
    "plt.axis(\"equal\")\n",
    "plt.show()\n",
    "for i in range(cities.shape[0]):\n",
    "    print(cities[i],startups[i])"
   ]
  },
  {
   "cell_type": "code",
   "execution_count": 65,
   "metadata": {},
   "outputs": [
    {
     "name": "stdout",
     "output_type": "stream",
     "text": [
      "Bangalore 49.71\n",
      "New Delhi 16.63\n",
      "Mumbai 13.90\n",
      "Gurgaon 12.21\n",
      "Chennai 2.43\n",
      "Pune 2.16\n",
      "Hyderabad 1.15\n",
      "Noida 1.01\n",
      "Ahmedabad 0.58\n",
      "Jaipur 0.21\n"
     ]
    }
   ],
   "source": [
    "#Funding amount unorganised\n",
    "import numpy as np\n",
    "import pandas as pd\n",
    "import matplotlib.pyplot as plt\n",
    "df=pd.read_csv('C:/Users/Suman Shekhar/Desktop/Data Science and ML/Project  Case Study (Part - I)/Dataset/startup_funding.csv', skipinitialspace=True)\n",
    "\n",
    "df.dropna(subset=['AmountInUSD', 'CityLocation'], inplace=True)\n",
    "df['CityLocation'].replace('Delhi','New Delhi',inplace=True)\n",
    "df['CityLocation'].replace('bangalore','Bangalore',inplace=True)\n",
    "\n",
    "def fun(s):\n",
    "    return s.split('/')[0].strip()\n",
    "\n",
    "\n",
    "df['CityLocation']=df['CityLocation'].apply(fun)\n",
    "df['AmountInUSD']=df['AmountInUSD'].str.replace(',','')\n",
    "df['AmountInUSD']=df['AmountInUSD'].astype(float)\n",
    "city=df['CityLocation']\n",
    "city=city.value_counts()\n",
    "city=city[:10]\n",
    "city=city.index\n",
    "fundings=[]\n",
    "for i in city:\n",
    "    indexes=df['CityLocation']==i\n",
    "    s=df['AmountInUSD'][indexes].sum()\n",
    "    fundings.append(s)\n",
    "fundings=np.array(fundings)\n",
    "index=np.argsort(fundings)\n",
    "fundings=fundings[index[::-1]]\n",
    "city=city[index[::-1]]\n",
    "total_funding=fundings.sum()\n",
    "percent=fundings/total_funding*100\n",
    "#print(city)\n",
    "#print(percent)\n",
    "for i in range(city.shape[0]):\n",
    "    print(city[i], format(percent[i], '.2f'))"
   ]
  },
  {
   "cell_type": "code",
   "execution_count": 64,
   "metadata": {},
   "outputs": [
    {
     "name": "stdout",
     "output_type": "stream",
     "text": [
      "Bangalore 49.71\n",
      "New Delhi 16.63\n",
      "Mumbai 13.90\n",
      "Gurgaon 12.21\n",
      "Chennai 2.43\n",
      "Pune 2.16\n",
      "Hyderabad 1.15\n",
      "Noida 1.01\n",
      "Ahmedabad 0.58\n",
      "Jaipur 0.21\n"
     ]
    }
   ],
   "source": [
    "#Funding amount organised\n",
    "import numpy as np\n",
    "import pandas as pd\n",
    "import matplotlib.pyplot as plt\n",
    "df=pd.read_csv('C:/Users/Suman Shekhar/Desktop/Data Science and ML/Project  Case Study (Part - I)/Dataset/startup_funding.csv', skipinitialspace=True)\n",
    "\n",
    "df.dropna(subset=['AmountInUSD', 'CityLocation'], inplace=True)\n",
    "df['CityLocation'].replace(['Delhi','bangalore'],['New Delhi','Bangalore'],inplace=True)\n",
    "df['CityLocation']=df['CityLocation'].str.split('/', expand=True)[0].str.strip()\n",
    "df['AmountInUSD']=df['AmountInUSD'].apply(lambda s: float(s.replace(',','')))\n",
    "fundings=df.groupby('CityLocation')['AmountInUSD'].sum().sort_values(ascending=False)[0:10]\n",
    "city=fundings.index\n",
    "s=sum(fundings.values)\n",
    "percent=fundings.values/s*100\n",
    "for i in range(city.shape[0]):\n",
    "    print(city[i], format(percent[i], '.2f'))"
   ]
  },
  {
   "cell_type": "code",
   "execution_count": 63,
   "metadata": {},
   "outputs": [
    {
     "data": {
      "image/png": "[encoded data removed]",
      "text/plain": [
       "<Figure size 432x288 with 1 Axes>"
      ]
     },
     "metadata": {},
     "output_type": "display_data"
    },
    {
     "name": "stdout",
     "output_type": "stream",
     "text": [
      "Private Equity 98.15\n",
      "Seed Funding 1.81\n",
      "Debt Funding 0.04\n",
      "Crowd Funding 0.00\n"
     ]
    }
   ],
   "source": [
    "#Investment Type\n",
    "import numpy as np\n",
    "import pandas as pd\n",
    "import matplotlib.pyplot as plt\n",
    "df=pd.read_csv('C:/Users/Suman Shekhar/Desktop/Data Science and ML/Project  Case Study (Part - I)/Dataset/startup_funding.csv', skipinitialspace=True)\n",
    "\n",
    "df.dropna(subset=['InvestmentType','AmountInUSD'], inplace=True)\n",
    "#df['InvestmentType'].unique()\n",
    "df['InvestmentType'].replace(['PrivateEquity','Crowd funding', 'SeedFunding'],['Private Equity','Crowd Funding','Seed Funding'], inplace=True)\n",
    "#df['InvestmentType'].unique()\n",
    "df['AmountInUSD']=df['AmountInUSD'].apply(lambda s: float(s.replace(',','')))\n",
    "#df['AmountInUSD']\n",
    "investment=df.groupby('InvestmentType')['AmountInUSD'].sum().sort_values(ascending=False)\n",
    "investmentType=investment.index\n",
    "fundings=investment.values\n",
    "s=sum(fundings)\n",
    "percent=fundings/s*100\n",
    "plt.pie(fundings, labels=investmentType,autopct=\"%.2f%%\")\n",
    "plt.show()\n",
    "for i in range(fundings.shape[0]):\n",
    "    print(investmentType[i], format(percent[i], '.2f'))"
   ]
  },
  {
   "cell_type": "code",
   "execution_count": 62,
   "metadata": {},
   "outputs": [
    {
     "data": {
      "image/png": "[encoded data removed]",
      "text/plain": [
       "<Figure size 432x288 with 1 Axes>"
      ]
     },
     "metadata": {
      "needs_background": "light"
     },
     "output_type": "display_data"
    },
    {
     "name": "stdout",
     "output_type": "stream",
     "text": [
      "Ecommerce 40.53\n",
      "Consumer Internet 35.95\n",
      "Technology 10.45\n",
      "Online Marketplace 6.63\n",
      "E-Commerce & M-Commerce platform 6.44\n"
     ]
    }
   ],
   "source": [
    "#Top Industries\n",
    "import numpy as np\n",
    "import pandas as pd\n",
    "import matplotlib.pyplot as plt\n",
    "df=pd.read_csv('C:/Users/Suman Shekhar/Desktop/Data Science and ML/Project  Case Study (Part - I)/Dataset/startup_funding.csv', skipinitialspace=True)\n",
    "\n",
    "df.dropna(subset=['IndustryVertical', 'AmountInUSD'], inplace=True)\n",
    "#df['IndustryVertical'].unique()\n",
    "df['IndustryVertical'].replace(['eCommerce','ECommerce','ecommerce'],'Ecommerce', inplace=True)\n",
    "#df['IndustryVertical'].unique()\n",
    "df['AmountInUSD']=df['AmountInUSD'].apply(lambda s: float(s.replace(',','')))\n",
    "industry=df.groupby('IndustryVertical')['AmountInUSD'].sum().sort_values(ascending=False)[0:5]\n",
    "industryType=industry.index\n",
    "fundings=industry.values\n",
    "fundingsInBillion=fundings/1000000000\n",
    "plt.bar(industryType,fundingsInBillion,edgecolor='black',width=0.6, label='Funding In Billions')\n",
    "plt.xticks(rotation=60)\n",
    "yticks=np.arange(0,5,0.5)\n",
    "plt.yticks(yticks)\n",
    "plt.legend()\n",
    "plt.show()\n",
    "percent=fundings/fundings.sum()*100\n",
    "for i in range(fundings.shape[0]):\n",
    "    print(industryType[i],format(percent[i], '.2f'))\n"
   ]
  },
  {
   "cell_type": "code",
   "execution_count": 61,
   "metadata": {},
   "outputs": [
    {
     "name": "stdout",
     "output_type": "stream",
     "text": [
      "Paytm\n",
      "Flipkart\n",
      "Ola\n",
      "Snapdeal\n",
      "Oyo\n"
     ]
    }
   ],
   "source": [
    "#Top startups\n",
    "import numpy as np\n",
    "import pandas as pd\n",
    "import matplotlib.pyplot as plt\n",
    "df=pd.read_csv('C:/Users/Suman Shekhar/Desktop/Data Science and ML/Project  Case Study (Part - I)/Dataset/startup_funding.csv', skipinitialspace=True)\n",
    "\n",
    "df.dropna(subset=['StartupName','AmountInUSD'], inplace=True)\n",
    "#correcting Ola names\n",
    "df['StartupName'].replace(['Ola Cabs','Olacabs'],'Ola', inplace=True)\n",
    "#correcting Flipkart names\n",
    "df['StartupName'].replace('Flipkart.com','Flipkart', inplace=True)\n",
    "#correcting Oyo names\n",
    "df['StartupName'].replace(['Oyo Rooms','OyoRooms','Oyorooms','OYO Rooms'],'Oyo', inplace=True)\n",
    "#correcting Paytm names\n",
    "df['StartupName'].replace('Paytm Marketplace','Paytm', inplace=True)\n",
    "df['AmountInUSD']=df['AmountInUSD'].apply(lambda s: float(s.replace(',','')))\n",
    "startup=df.groupby('StartupName')['AmountInUSD'].sum().sort_values(ascending=False)[0:5]\n",
    "startup=startup.index\n",
    "for i in startup:\n",
    "    print(i)"
   ]
  },
  {
   "cell_type": "code",
   "execution_count": 10,
   "metadata": {},
   "outputs": [
    {
     "name": "stdout",
     "output_type": "stream",
     "text": [
      "Ola 9\n",
      "Swiggy 7\n",
      "UrbanClap 6\n",
      "Paytm 6\n",
      "Oyo 6\n"
     ]
    }
   ],
   "source": [
    "#Funding rounds\n",
    "import numpy as np\n",
    "import pandas as pd\n",
    "import matplotlib.pyplot as plt\n",
    "df=pd.read_csv('C:/Users/panka/Documents/CodingNinjaDS/Project  Case Study (Part - I)/Dataset/startup_funding.csv', skipinitialspace=True)\n",
    "\n",
    "df.dropna(subset=['StartupName'], inplace=True)\n",
    "#correcting Ola names\n",
    "df['StartupName'].replace(['Ola Cabs','Olacabs'],'Ola', inplace=True)\n",
    "#correcting Flipkart names\n",
    "df['StartupName'].replace('Flipkart.com','Flipkart', inplace=True)\n",
    "#correcting Oyo names\n",
    "df['StartupName'].replace(['Oyo Rooms','OyoRooms','Oyorooms','OYO Rooms'],'Oyo', inplace=True)\n",
    "#correcting Paytm names\n",
    "df['StartupName'].replace('Paytm Marketplace','Paytm', inplace=True)\n",
    "\n",
    "startups=df['StartupName'].value_counts()[0:5]\n",
    "for i in range(startups.shape[0]):\n",
    "    print(startups.index[i],startups.values[i])"
   ]
  },
  {
   "cell_type": "code",
   "execution_count": 16,
   "metadata": {},
   "outputs": [
    {
     "name": "stdout",
     "output_type": "stream",
     "text": [
      "Sequoia Capital 64\n"
     ]
    }
   ],
   "source": [
    "#Top Investor\n",
    "import numpy as np\n",
    "import pandas as pd\n",
    "import matplotlib.pyplot as plt\n",
    "df=pd.read_csv('C:/Users/panka/Documents/CodingNinjaDS/Project  Case Study (Part - I)/Dataset/startup_funding.csv', skipinitialspace=True)\n",
    "\n",
    "df.dropna(subset=['InvestorsName'],inplace=True)\n",
    "df['InvestorsName']=df['InvestorsName'].str.split(',')\n",
    "l=[]\n",
    "for i in df['InvestorsName']:\n",
    "    for j in i:\n",
    "        if j!='':\n",
    "            l.append(j.strip())\n",
    "l=pd.Series(l)\n",
    "investors=l.value_counts()\n",
    "print(investors.index[0],investors.values[0])\n",
    "   "
   ]
  },
  {
   "cell_type": "code",
   "execution_count": null,
   "metadata": {},
   "outputs": [],
   "source": []
  }
 ],
 "metadata": {
  "kernelspec": {
   "display_name": "Python 3",
   "language": "python",
   "name": "python3"
  },
  "language_info": {
   "codemirror_mode": {
    "name": "ipython",
    "version": 3
   },
   "file_extension": ".py",
   "mimetype": "text/x-python",
   "name": "python",
   "nbconvert_exporter": "python",
   "pygments_lexer": "ipython3",
   "version": "3.7.6"
  }
 },
 "nbformat": 4,
 "nbformat_minor": 4
}
